{
 "cells": [
  {
   "cell_type": "code",
   "execution_count": null,
   "metadata": {},
   "outputs": [],
   "source": [
    "import MDAnalysis as mda\n",
    "from MDAnalysis.analysis.rms import RMSF\n",
    "import numpy as np\n",
    "import matplotlib.pyplot as plt\n",
    "\n",
    "# Load the renamed .arc file (now .xyz) as the trajectory\n",
    "u = mda.Universe(\"your_structure.pdb\", \"your_trajectory.xyz\")  # Update with actual files\n",
    "\n",
    "# Select the protein and DNA residues\n",
    "protein = u.select_atoms(\"protein\")\n",
    "dna = u.select_atoms(\"nucleic\")\n",
    "\n",
    "# Initialize RMSF analysis\n",
    "rmsf_protein = RMSF(protein).run()\n",
    "rmsf_dna = RMSF(dna).run()\n",
    "\n",
    "# Plot RMSF for each residue\n",
    "plt.figure(figsize=(10, 5))\n",
    "plt.plot(rmsf_protein.rmsf, label=\"Protein\")\n",
    "plt.plot(rmsf_dna.rmsf, label=\"ssDNA\")\n",
    "plt.xlabel(\"Residue index\")\n",
    "plt.ylabel(\"RMSF (Å)\")\n",
    "plt.title(\"RMSF per residue\")\n",
    "plt.legend()\n",
    "plt.show()\n"
   ]
  }
 ],
 "metadata": {
  "kernelspec": {
   "display_name": "Python 3",
   "language": "python",
   "name": "python3"
  },
  "language_info": {
   "name": "python",
   "version": "3.9.18"
  }
 },
 "nbformat": 4,
 "nbformat_minor": 2
}
