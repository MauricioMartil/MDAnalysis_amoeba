{
 "cells": [
  {
   "cell_type": "code",
   "execution_count": null,
   "metadata": {},
   "outputs": [
    {
     "ename": "TypeError",
     "evalue": "'Universe' object is not subscriptable",
     "output_type": "error",
     "traceback": [
      "\u001b[0;31m---------------------------------------------------------------------------\u001b[0m",
      "\u001b[0;31mTypeError\u001b[0m                                 Traceback (most recent call last)",
      "Cell \u001b[0;32mIn[8], line 17\u001b[0m\n\u001b[1;32m     14\u001b[0m align\u001b[38;5;241m.\u001b[39mAlignTraj(u, reference, select\u001b[38;5;241m=\u001b[39m\u001b[38;5;124m'\u001b[39m\u001b[38;5;124mprotein and name CA\u001b[39m\u001b[38;5;124m'\u001b[39m, in_memory\u001b[38;5;241m=\u001b[39m\u001b[38;5;28;01mTrue\u001b[39;00m)\u001b[38;5;241m.\u001b[39mrun()\n\u001b[1;32m     16\u001b[0m \u001b[38;5;66;03m# Perform PSA (Principal Structural Alignment)\u001b[39;00m\n\u001b[0;32m---> 17\u001b[0m psa_analysis \u001b[38;5;241m=\u001b[39m \u001b[43mpsa\u001b[49m\u001b[38;5;241;43m.\u001b[39;49m\u001b[43mPSAnalysis\u001b[49m\u001b[43m(\u001b[49m\u001b[43mu\u001b[49m\u001b[43m,\u001b[49m\u001b[43m \u001b[49m\u001b[43mselect\u001b[49m\u001b[38;5;241;43m=\u001b[39;49m\u001b[38;5;124;43m'\u001b[39;49m\u001b[38;5;124;43mprotein and name CA\u001b[39;49m\u001b[38;5;124;43m'\u001b[39;49m\u001b[43m)\u001b[49m\u001b[38;5;241m.\u001b[39mrun()\n\u001b[1;32m     19\u001b[0m \u001b[38;5;66;03m# Get the similarity matrix\u001b[39;00m\n\u001b[1;32m     20\u001b[0m similarity_matrix \u001b[38;5;241m=\u001b[39m psa_analysis\u001b[38;5;241m.\u001b[39msimilarity_matrix\n",
      "File \u001b[0;32m~/.local/lib/python3.9/site-packages/MDAnalysis/analysis/psa.py:1305\u001b[0m, in \u001b[0;36mPSAnalysis.__init__\u001b[0;34m(self, universes, reference, select, ref_frame, path_select, labels, targetdir)\u001b[0m\n\u001b[1;32m   1253\u001b[0m \u001b[38;5;250m\u001b[39m\u001b[38;5;124;03m\"\"\"Setting up Path Similarity Analysis.\u001b[39;00m\n\u001b[1;32m   1254\u001b[0m \n\u001b[1;32m   1255\u001b[0m \u001b[38;5;124;03mThe mutual similarity between all unique pairs of trajectories\u001b[39;00m\n\u001b[0;32m   (...)\u001b[0m\n\u001b[1;32m   1302\u001b[0m \n\u001b[1;32m   1303\u001b[0m \u001b[38;5;124;03m\"\"\"\u001b[39;00m\n\u001b[1;32m   1304\u001b[0m \u001b[38;5;28mself\u001b[39m\u001b[38;5;241m.\u001b[39muniverses \u001b[38;5;241m=\u001b[39m universes\n\u001b[0;32m-> 1305\u001b[0m \u001b[38;5;28mself\u001b[39m\u001b[38;5;241m.\u001b[39mu_reference \u001b[38;5;241m=\u001b[39m \u001b[38;5;28;43mself\u001b[39;49m\u001b[38;5;241;43m.\u001b[39;49m\u001b[43muniverses\u001b[49m\u001b[43m[\u001b[49m\u001b[38;5;241;43m0\u001b[39;49m\u001b[43m]\u001b[49m \u001b[38;5;28;01mif\u001b[39;00m reference \u001b[38;5;129;01mis\u001b[39;00m \u001b[38;5;28;01mNone\u001b[39;00m \u001b[38;5;28;01melse\u001b[39;00m reference\n\u001b[1;32m   1306\u001b[0m \u001b[38;5;28mself\u001b[39m\u001b[38;5;241m.\u001b[39mselect \u001b[38;5;241m=\u001b[39m select\n\u001b[1;32m   1307\u001b[0m \u001b[38;5;28mself\u001b[39m\u001b[38;5;241m.\u001b[39mref_frame \u001b[38;5;241m=\u001b[39m ref_frame\n",
      "\u001b[0;31mTypeError\u001b[0m: 'Universe' object is not subscriptable"
     ]
    }
   ],
   "source": [
    "import MDAnalysis as mda\n",
    "from MDAnalysis.analysis import align\n",
    "from MDAnalysis.analysis import psa\n",
    "import numpy as np\n",
    "import warnings\n",
    "\n",
    "warnings.filterwarnings('ignore')\n",
    "\n",
    "# Load your trajectory and topology files\n",
    "u = mda.Universe('WT_test.pdb', 'GProS_6wma_WT.arc')\n",
    "\n",
    "# Align the trajectory to the reference structure\n",
    "reference = u.select_atoms('protein and name CA')\n",
    "align.AlignTraj(u, reference, select='protein and name CA', in_memory=True).run()\n",
    "\n",
    "# Perform PSA (Principal Structural Alignment)\n",
    "psa_analysis = psa.PSAnalysis(u, , select='protein and name CA').run()\n",
    "\n",
    "# Get the similarity matrix\n",
    "similarity_matrix = psa_analysis.similarity_matrix\n",
    "\n",
    "# Print the similarity matrix\n",
    "print(\"Similarity Matrix:\")\n",
    "print(similarity_matrix)\n",
    "\n",
    "# Assuming each frame is 1 ns, create a time array\n",
    "time = np.arange(len(list(u.trajectory)))  # Each frame is 1 ns\n",
    "\n",
    "# Plot the similarity matrix\n",
    "import matplotlib.pyplot as plt\n",
    "\n",
    "plt.imshow(similarity_matrix, aspect='auto', origin='lower', extent=[0, len(time)-1, 0, len(time)-1])\n",
    "plt.colorbar(label='Similarity')\n",
    "plt.xlabel('Time (ns)')\n",
    "plt.ylabel('Time (ns)')\n",
    "plt.title('Geometric Similarity Matrix')\n",
    "plt.show()\n",
    "\n",
    "\n",
    "\n"
   ]
  },
  {
   "cell_type": "code",
   "execution_count": null,
   "metadata": {},
   "outputs": [],
   "source": []
  }
 ],
 "metadata": {
  "kernelspec": {
   "display_name": "Python 3",
   "language": "python",
   "name": "python3"
  },
  "language_info": {
   "codemirror_mode": {
    "name": "ipython",
    "version": 3
   },
   "file_extension": ".py",
   "mimetype": "text/x-python",
   "name": "python",
   "nbconvert_exporter": "python",
   "pygments_lexer": "ipython3",
   "version": "3.9.18"
  }
 },
 "nbformat": 4,
 "nbformat_minor": 2
}
